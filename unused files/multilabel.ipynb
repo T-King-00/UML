{
 "cells": [
  {
   "cell_type": "code",
   "execution_count": 2,
   "metadata": {
    "collapsed": true,
    "ExecuteTime": {
     "end_time": "2023-05-27T16:11:40.937791200Z",
     "start_time": "2023-05-27T16:11:38.488675200Z"
    }
   },
   "outputs": [],
   "source": [
    "import matplotlib.pyplot as plt\n",
    "from nltk.corpus import stopwords\n",
    "import re\n",
    "import pandas as pd\n",
    "import numpy as np\n",
    "df = pd.read_csv('data.csv')\n"
   ]
  },
  {
   "cell_type": "markdown",
   "source": [
    "# Explatory data analysis"
   ],
   "metadata": {
    "collapsed": false
   }
  },
  {
   "cell_type": "code",
   "execution_count": 3,
   "outputs": [
    {
     "name": "stdout",
     "output_type": "stream",
     "text": [
      "                  attribute  \\\n",
      "0                 nick name   \n",
      "1                 user name   \n",
      "2                 full name   \n",
      "3                        id   \n",
      "4                     email   \n",
      "..                      ...   \n",
      "155    prescription history   \n",
      "156          discharge date   \n",
      "157            is alcoholic   \n",
      "158               is smoker   \n",
      "159  primary care physician   \n",
      "\n",
      "                                               classes  user  music  employee  \\\n",
      "0    ['user', 'music','employee','book','website','...     1      0         1   \n",
      "1    ['user', 'music','employee','book','website','...     1      0         0   \n",
      "2    ['user', 'music','employee','book','website','...     1      0         1   \n",
      "3    ['user', 'music','employee','book','website','...     1      0         1   \n",
      "4    ['user', 'music','employee','book','website','...     1      0         1   \n",
      "..                                                 ...   ...    ...       ...   \n",
      "155  ['user', 'music','employee','book','website','...     0      0         0   \n",
      "156  ['user', 'music','employee','book','website','...     0      0         0   \n",
      "157  ['user', 'music','employee','book','website','...     0      0         0   \n",
      "158  ['user', 'music','employee','book','website','...     0      0         0   \n",
      "159  ['user', 'music','employee','book','website','...     0      0         0   \n",
      "\n",
      "     book  website  credit card  shopping cart  patient  \n",
      "0       0        0            0              0        0  \n",
      "1       0        0            0              0        0  \n",
      "2       0        0            0              0        1  \n",
      "3       0        0            1              1        1  \n",
      "4       0        0            0              0        0  \n",
      "..    ...      ...          ...            ...      ...  \n",
      "155     0        0            0              0        1  \n",
      "156     0        0            0              0        1  \n",
      "157     0        0            0              0        1  \n",
      "158     0        0            0              0        1  \n",
      "159     0        0            0              0        1  \n",
      "\n",
      "[160 rows x 10 columns]\n",
      "   attribute                                            classes  user  music  \\\n",
      "0  nick name  ['user', 'music','employee','book','website','...     1      0   \n",
      "1  user name  ['user', 'music','employee','book','website','...     1      0   \n",
      "2  full name  ['user', 'music','employee','book','website','...     1      0   \n",
      "3         id  ['user', 'music','employee','book','website','...     1      0   \n",
      "4      email  ['user', 'music','employee','book','website','...     1      0   \n",
      "\n",
      "   employee  book  website  credit card  shopping cart  patient  \n",
      "0         1     0        0            0              0        0  \n",
      "1         0     0        0            0              0        0  \n",
      "2         1     0        0            0              0        1  \n",
      "3         1     0        0            1              1        1  \n",
      "4         1     0        0            0              0        0  \n"
     ]
    }
   ],
   "source": [
    "print(df)\n",
    "print(df.head())"
   ],
   "metadata": {
    "collapsed": false,
    "ExecuteTime": {
     "end_time": "2023-05-27T16:11:40.954791700Z",
     "start_time": "2023-05-27T16:11:40.939791200Z"
    }
   }
  },
  {
   "cell_type": "markdown",
   "source": [],
   "metadata": {
    "collapsed": false
   }
  },
  {
   "cell_type": "code",
   "execution_count": 4,
   "outputs": [
    {
     "data": {
      "text/plain": "attribute        False\nclasses          False\nuser             False\nmusic            False\nemployee         False\nbook             False\nwebsite          False\ncredit card      False\nshopping cart    False\npatient          False\ndtype: bool"
     },
     "execution_count": 4,
     "metadata": {},
     "output_type": "execute_result"
    }
   ],
   "source": [
    "df.isna().any()"
   ],
   "metadata": {
    "collapsed": false,
    "ExecuteTime": {
     "end_time": "2023-05-27T16:11:41.013563200Z",
     "start_time": "2023-05-27T16:11:40.957805500Z"
    }
   }
  },
  {
   "cell_type": "code",
   "execution_count": 5,
   "outputs": [
    {
     "data": {
      "text/plain": "attribute        object\nclasses          object\nuser              int64\nmusic             int64\nemployee          int64\nbook              int64\nwebsite           int64\ncredit card       int64\nshopping cart     int64\npatient           int64\ndtype: object"
     },
     "execution_count": 5,
     "metadata": {},
     "output_type": "execute_result"
    }
   ],
   "source": [
    "df.dtypes"
   ],
   "metadata": {
    "collapsed": false,
    "ExecuteTime": {
     "end_time": "2023-05-27T16:11:41.014327500Z",
     "start_time": "2023-05-27T16:11:40.971792300Z"
    }
   }
  },
  {
   "cell_type": "code",
   "execution_count": 5,
   "outputs": [],
   "source": [],
   "metadata": {
    "collapsed": false,
    "ExecuteTime": {
     "end_time": "2023-05-27T16:11:41.015329Z",
     "start_time": "2023-05-27T16:11:40.985814900Z"
    }
   }
  },
  {
   "cell_type": "code",
   "execution_count": 6,
   "outputs": [],
   "source": [
    "df['user'] = df['user'].astype(float)\n",
    "df['music'] = df['music'].astype(float)\n",
    "df['employee'] = df['employee'].astype(float)\n",
    "df['book'] = df['book'].astype(float)\n",
    "df['website'] = df['website'].astype(float)\n",
    "df['credit card'] = df['credit card'].astype(float)\n",
    "df['shopping cart'] = df['shopping cart'].astype(float)\n",
    "df['patient'] = df['patient'].astype(float)"
   ],
   "metadata": {
    "collapsed": false,
    "ExecuteTime": {
     "end_time": "2023-05-27T16:11:41.026371500Z",
     "start_time": "2023-05-27T16:11:41.003328400Z"
    }
   }
  },
  {
   "cell_type": "code",
   "execution_count": 7,
   "outputs": [
    {
     "data": {
      "text/plain": "attribute         object\nclasses           object\nuser             float64\nmusic            float64\nemployee         float64\nbook             float64\nwebsite          float64\ncredit card      float64\nshopping cart    float64\npatient          float64\ndtype: object"
     },
     "execution_count": 7,
     "metadata": {},
     "output_type": "execute_result"
    }
   ],
   "source": [
    "df.dtypes"
   ],
   "metadata": {
    "collapsed": false,
    "ExecuteTime": {
     "end_time": "2023-05-27T16:11:41.035328200Z",
     "start_time": "2023-05-27T16:11:41.019323300Z"
    }
   }
  },
  {
   "cell_type": "markdown",
   "source": [
    "# model"
   ],
   "metadata": {
    "collapsed": false
   }
  },
  {
   "cell_type": "code",
   "execution_count": 8,
   "outputs": [],
   "source": [
    "from sklearn.naive_bayes import GaussianNB,MultinomialNB\n",
    "from sklearn.metrics import accuracy_score,hamming_loss,f1_score\n",
    "from sklearn.model_selection import train_test_split\n",
    "from sklearn.feature_extraction.text import TfidfVectorizer\n",
    "from skmultilearn.problem_transform import BinaryRelevance\n",
    "from skmultilearn.problem_transform import LabelPowerset"
   ],
   "metadata": {
    "collapsed": false,
    "ExecuteTime": {
     "end_time": "2023-05-27T16:11:41.076477500Z",
     "start_time": "2023-05-27T16:11:41.034328800Z"
    }
   }
  },
  {
   "cell_type": "code",
   "execution_count": 9,
   "outputs": [
    {
     "name": "stdout",
     "output_type": "stream",
     "text": [
      "Defaulting to user installation because normal site-packages is not writeable\n",
      "Requirement already satisfied: neattext in z:\\programdata\\anaconda3\\lib\\site-packages (0.1.3)\n",
      "                  attribute  \\\n",
      "0                 nick name   \n",
      "1                 user name   \n",
      "2                 full name   \n",
      "3                        id   \n",
      "4                     email   \n",
      "..                      ...   \n",
      "155    prescription history   \n",
      "156          discharge date   \n",
      "157            is alcoholic   \n",
      "158               is smoker   \n",
      "159  primary care physician   \n",
      "\n",
      "                                               classes  user  music  employee  \\\n",
      "0    ['user', 'music','employee','book','website','...   1.0    0.0       1.0   \n",
      "1    ['user', 'music','employee','book','website','...   1.0    0.0       0.0   \n",
      "2    ['user', 'music','employee','book','website','...   1.0    0.0       1.0   \n",
      "3    ['user', 'music','employee','book','website','...   1.0    0.0       1.0   \n",
      "4    ['user', 'music','employee','book','website','...   1.0    0.0       1.0   \n",
      "..                                                 ...   ...    ...       ...   \n",
      "155  ['user', 'music','employee','book','website','...   0.0    0.0       0.0   \n",
      "156  ['user', 'music','employee','book','website','...   0.0    0.0       0.0   \n",
      "157  ['user', 'music','employee','book','website','...   0.0    0.0       0.0   \n",
      "158  ['user', 'music','employee','book','website','...   0.0    0.0       0.0   \n",
      "159  ['user', 'music','employee','book','website','...   0.0    0.0       0.0   \n",
      "\n",
      "     book  website  credit card  shopping cart  patient  \n",
      "0     0.0      0.0          0.0            0.0      0.0  \n",
      "1     0.0      0.0          0.0            0.0      0.0  \n",
      "2     0.0      0.0          0.0            0.0      1.0  \n",
      "3     0.0      0.0          1.0            1.0      1.0  \n",
      "4     0.0      0.0          0.0            0.0      0.0  \n",
      "..    ...      ...          ...            ...      ...  \n",
      "155   0.0      0.0          0.0            0.0      1.0  \n",
      "156   0.0      0.0          0.0            0.0      1.0  \n",
      "157   0.0      0.0          0.0            0.0      1.0  \n",
      "158   0.0      0.0          0.0            0.0      1.0  \n",
      "159   0.0      0.0          0.0            0.0      1.0  \n",
      "\n",
      "[160 rows x 10 columns]\n"
     ]
    }
   ],
   "source": [
    "!pip install neattext\n",
    "import neattext as nt\n",
    "import neattext.functions as nfx\n",
    "print(df)\n",
    "df['attribute'].apply(lambda x:nt.TextFrame(x).noise_scan())\n",
    "corpus = df['attribute'].apply(nfx.remove_special_characters)\n",
    "\n"
   ],
   "metadata": {
    "collapsed": false,
    "ExecuteTime": {
     "end_time": "2023-05-27T16:11:45.330389300Z",
     "start_time": "2023-05-27T16:11:41.066452700Z"
    }
   }
  },
  {
   "cell_type": "markdown",
   "source": [
    "Extracting features"
   ],
   "metadata": {
    "collapsed": false
   }
  },
  {
   "cell_type": "markdown",
   "source": [],
   "metadata": {
    "collapsed": false
   }
  },
  {
   "cell_type": "code",
   "execution_count": 10,
   "outputs": [],
   "source": [
    "tfidf = TfidfVectorizer()\n",
    "Xfeatures = tfidf.fit_transform(corpus).toarray()"
   ],
   "metadata": {
    "collapsed": false,
    "ExecuteTime": {
     "end_time": "2023-05-27T16:11:45.375805100Z",
     "start_time": "2023-05-27T16:11:45.332389400Z"
    }
   }
  },
  {
   "cell_type": "code",
   "execution_count": 11,
   "outputs": [
    {
     "data": {
      "text/plain": "array([[0., 0., 0., ..., 0., 0., 0.],\n       [0., 0., 0., ..., 0., 0., 0.],\n       [0., 0., 0., ..., 0., 0., 0.],\n       ...,\n       [0., 0., 0., ..., 0., 0., 0.],\n       [0., 0., 0., ..., 0., 0., 0.],\n       [0., 0., 0., ..., 0., 0., 0.]])"
     },
     "execution_count": 11,
     "metadata": {},
     "output_type": "execute_result"
    }
   ],
   "source": [
    "Xfeatures"
   ],
   "metadata": {
    "collapsed": false,
    "ExecuteTime": {
     "end_time": "2023-05-27T16:11:45.386820Z",
     "start_time": "2023-05-27T16:11:45.347815100Z"
    }
   }
  },
  {
   "cell_type": "code",
   "execution_count": 12,
   "outputs": [],
   "source": [
    "y = df[['user', 'music', 'employee', 'book', 'website', 'credit card' ,  'shopping cart','patient']]\n",
    "X_train,X_test,y_train,y_test = train_test_split(Xfeatures,y,test_size=0.30,random_state=42)\n"
   ],
   "metadata": {
    "collapsed": false,
    "ExecuteTime": {
     "end_time": "2023-05-27T16:11:45.386820Z",
     "start_time": "2023-05-27T16:11:45.365803900Z"
    }
   }
  },
  {
   "cell_type": "code",
   "execution_count": 13,
   "outputs": [],
   "source": [
    "from skmultilearn.problem_transform import BinaryRelevance\n",
    "\n",
    "binary_rel_clf = BinaryRelevance(MultinomialNB())\n"
   ],
   "metadata": {
    "collapsed": false,
    "ExecuteTime": {
     "end_time": "2023-05-27T16:11:45.393818200Z",
     "start_time": "2023-05-27T16:11:45.381819200Z"
    }
   }
  },
  {
   "cell_type": "code",
   "execution_count": 14,
   "outputs": [
    {
     "data": {
      "text/plain": "BinaryRelevance(classifier=MultinomialNB(), require_dense=[True, True])"
     },
     "execution_count": 14,
     "metadata": {},
     "output_type": "execute_result"
    }
   ],
   "source": [
    "binary_rel_clf.fit(X_train,y_train)\n"
   ],
   "metadata": {
    "collapsed": false,
    "ExecuteTime": {
     "end_time": "2023-05-27T16:11:45.430977500Z",
     "start_time": "2023-05-27T16:11:45.395820200Z"
    }
   }
  },
  {
   "cell_type": "code",
   "execution_count": 15,
   "outputs": [],
   "source": [
    "br_prediction = binary_rel_clf.predict(X_test)\n"
   ],
   "metadata": {
    "collapsed": false,
    "ExecuteTime": {
     "end_time": "2023-05-27T16:11:45.438973500Z",
     "start_time": "2023-05-27T16:11:45.424977200Z"
    }
   }
  },
  {
   "cell_type": "code",
   "execution_count": 16,
   "outputs": [
    {
     "data": {
      "text/plain": "array([[0., 0., 0., 0., 0., 0., 0., 0.],\n       [0., 0., 0., 0., 0., 0., 0., 0.],\n       [0., 0., 0., 0., 0., 0., 0., 0.],\n       [0., 0., 0., 0., 0., 0., 0., 0.],\n       [0., 0., 0., 0., 0., 0., 0., 0.],\n       [0., 0., 0., 0., 0., 0., 0., 0.],\n       [0., 0., 0., 0., 0., 0., 0., 0.],\n       [0., 0., 0., 0., 0., 0., 0., 0.],\n       [0., 0., 0., 0., 0., 0., 0., 0.],\n       [0., 0., 0., 0., 0., 0., 0., 0.],\n       [0., 0., 0., 0., 0., 0., 0., 0.],\n       [0., 0., 0., 0., 0., 0., 0., 0.],\n       [0., 0., 0., 0., 0., 0., 0., 0.],\n       [0., 0., 0., 0., 0., 0., 0., 0.],\n       [0., 0., 0., 0., 0., 0., 0., 0.],\n       [0., 0., 0., 0., 0., 0., 0., 0.],\n       [0., 0., 0., 0., 0., 0., 0., 0.],\n       [0., 0., 0., 0., 0., 0., 0., 0.],\n       [0., 0., 0., 0., 0., 0., 0., 0.],\n       [0., 0., 0., 0., 0., 0., 0., 0.],\n       [0., 0., 0., 0., 0., 0., 0., 0.],\n       [0., 0., 0., 0., 0., 0., 0., 0.],\n       [0., 0., 0., 0., 0., 0., 0., 0.],\n       [0., 0., 0., 0., 0., 0., 0., 0.],\n       [0., 0., 0., 0., 0., 0., 0., 0.],\n       [0., 0., 0., 0., 0., 0., 0., 0.],\n       [0., 0., 0., 0., 0., 0., 0., 0.],\n       [0., 0., 0., 0., 0., 0., 0., 0.],\n       [0., 0., 0., 0., 0., 0., 0., 0.],\n       [0., 0., 0., 0., 0., 0., 0., 0.],\n       [0., 0., 0., 0., 0., 0., 0., 0.],\n       [0., 0., 0., 0., 0., 0., 0., 0.],\n       [0., 0., 0., 0., 0., 0., 0., 0.],\n       [0., 0., 0., 0., 0., 0., 0., 0.],\n       [0., 0., 0., 0., 0., 0., 0., 0.],\n       [0., 0., 0., 0., 0., 0., 0., 0.],\n       [0., 0., 0., 0., 0., 0., 0., 0.],\n       [0., 0., 0., 0., 0., 0., 0., 0.],\n       [0., 0., 0., 0., 0., 0., 0., 0.],\n       [0., 0., 0., 0., 0., 0., 0., 0.],\n       [0., 0., 0., 0., 0., 0., 0., 0.],\n       [0., 0., 0., 0., 0., 0., 0., 0.],\n       [0., 0., 0., 0., 0., 0., 0., 0.],\n       [0., 0., 0., 0., 0., 0., 0., 0.],\n       [0., 0., 0., 0., 0., 0., 0., 0.],\n       [0., 0., 0., 0., 0., 0., 0., 0.],\n       [0., 0., 0., 0., 0., 0., 0., 0.],\n       [0., 0., 0., 0., 0., 0., 0., 0.]])"
     },
     "execution_count": 16,
     "metadata": {},
     "output_type": "execute_result"
    }
   ],
   "source": [
    "br_prediction.toarray()\n"
   ],
   "metadata": {
    "collapsed": false,
    "ExecuteTime": {
     "end_time": "2023-05-27T16:11:45.500335600Z",
     "start_time": "2023-05-27T16:11:45.440974Z"
    }
   }
  },
  {
   "cell_type": "code",
   "execution_count": 17,
   "outputs": [
    {
     "name": "stdout",
     "output_type": "stream",
     "text": [
      "0.0\n"
     ]
    },
    {
     "data": {
      "text/plain": "0.13802083333333334"
     },
     "execution_count": 17,
     "metadata": {},
     "output_type": "execute_result"
    }
   ],
   "source": [
    "print(accuracy_score(y_test,br_prediction))\n",
    "hamming_loss(y_test,br_prediction)\n"
   ],
   "metadata": {
    "collapsed": false,
    "ExecuteTime": {
     "end_time": "2023-05-27T16:11:45.511334400Z",
     "start_time": "2023-05-27T16:11:45.459974100Z"
    }
   }
  },
  {
   "cell_type": "code",
   "execution_count": 18,
   "outputs": [],
   "source": [
    "def build_model(model,mlb_estimator,xtrain,ytrain,xtest,ytest):\n",
    "    clf = mlb_estimator(model)\n",
    "    clf.fit(xtrain,ytrain)\n",
    "    clf_predictions = clf.predict(xtest)\n",
    "    acc = accuracy_score(ytest,clf_predictions)\n",
    "    f1_sco = f1_score(ytest,clf_predictions,average='micro')\n",
    "    hamloss = hamming_loss(ytest,clf_predictions)\n",
    "    result = {\"accuracy:\":acc,\"f1score\":f1_sco,\"hamming_loss\":hamloss}\n",
    "    return result"
   ],
   "metadata": {
    "collapsed": false,
    "ExecuteTime": {
     "end_time": "2023-05-27T16:11:45.512335800Z",
     "start_time": "2023-05-27T16:11:45.473977100Z"
    }
   }
  },
  {
   "cell_type": "code",
   "execution_count": 19,
   "outputs": [],
   "source": [
    "from skmultilearn.problem_transform import ClassifierChain\n",
    "\n",
    "clf_chain_model = build_model(MultinomialNB(),ClassifierChain,X_train,y_train,X_test,y_test)\n"
   ],
   "metadata": {
    "collapsed": false,
    "ExecuteTime": {
     "end_time": "2023-05-27T16:11:45.522336900Z",
     "start_time": "2023-05-27T16:11:45.500335600Z"
    }
   }
  },
  {
   "cell_type": "code",
   "execution_count": 20,
   "outputs": [
    {
     "data": {
      "text/plain": "{'accuracy:': 0.0, 'f1score': 0.0, 'hamming_loss': 0.13802083333333334}"
     },
     "execution_count": 20,
     "metadata": {},
     "output_type": "execute_result"
    }
   ],
   "source": [
    "clf_chain_model\n"
   ],
   "metadata": {
    "collapsed": false,
    "ExecuteTime": {
     "end_time": "2023-05-27T16:11:45.594438200Z",
     "start_time": "2023-05-27T16:11:45.522336900Z"
    }
   }
  },
  {
   "cell_type": "markdown",
   "source": [
    "# model 3"
   ],
   "metadata": {
    "collapsed": false
   }
  },
  {
   "cell_type": "code",
   "execution_count": 21,
   "outputs": [],
   "source": [
    "from skmultilearn.problem_transform import LabelPowerset\n",
    "\n",
    "clf_labelP_model = build_model(MultinomialNB(),LabelPowerset,X_train,y_train,X_test,y_test)\n"
   ],
   "metadata": {
    "collapsed": false,
    "ExecuteTime": {
     "end_time": "2023-05-27T16:11:45.626397200Z",
     "start_time": "2023-05-27T16:11:45.535338200Z"
    }
   }
  },
  {
   "cell_type": "code",
   "execution_count": 22,
   "outputs": [
    {
     "name": "stdout",
     "output_type": "stream",
     "text": [
      "accuracy: 0.0 f1score 0.0 hammingloss 0.13802083333333334\n",
      "{'accuracy:': 0.0, 'f1score': 0.0, 'hamming_loss': 0.13802083333333334}\n",
      "{'accuracy:': 0.25, 'f1score': 0.27722772277227725, 'hamming_loss': 0.19010416666666666}\n"
     ]
    },
    {
     "name": "stderr",
     "output_type": "stream",
     "text": [
      "Z:\\ProgramData\\Anaconda3\\lib\\site-packages\\sklearn\\metrics\\_classification.py:1318: UndefinedMetricWarning: Precision is ill-defined and being set to 0.0 in labels with no predicted samples. Use `zero_division` parameter to control this behavior.\n",
      "  _warn_prf(average, modifier, msg_start, len(result))\n"
     ]
    }
   ],
   "source": [
    "from sklearn.metrics import precision_score\n",
    "\n",
    "print(\"accuracy:\",accuracy_score(y_test,br_prediction) ,\"f1score\",precision_score(y_test,br_prediction,average='macro'),\"hammingloss\",hamming_loss(y_test,br_prediction) )\n",
    "print(clf_chain_model)\n",
    "print(clf_labelP_model)\n"
   ],
   "metadata": {
    "collapsed": false,
    "ExecuteTime": {
     "end_time": "2023-05-27T16:11:45.629754500Z",
     "start_time": "2023-05-27T16:11:45.551335900Z"
    }
   }
  },
  {
   "cell_type": "markdown",
   "source": [
    "## prediction"
   ],
   "metadata": {
    "collapsed": false
   }
  },
  {
   "cell_type": "code",
   "execution_count": 23,
   "outputs": [],
   "source": [
    "# from sklearn.pipeline import make_pipeline\n",
    "# from sklearn.feature_extraction.text import CountVectorizer, TfidfTransformer\n",
    "# from sklearn.model_selection import cross_val_score\n",
    "# lr = make_pipeline( CountVectorizer(ngram_range=(1,2)),TfidfTransformer(),MultinomialNB())\n",
    "# scores = cross_val_score(lr, corpus, y, cv=5)  # Specify the number of folds (e.g., 5-fold cross-validation)\n",
    "#\n",
    "# # Print the cross-validated scores\n",
    "# print(\"Cross-validated scores:\", scores)\n",
    "# print(\"Mean accuracy:\", scores.mean())\n",
    "# print(\"Standard deviation:\", scores.std())"
   ],
   "metadata": {
    "collapsed": false,
    "ExecuteTime": {
     "end_time": "2023-05-27T16:11:45.629754500Z",
     "start_time": "2023-05-27T16:11:45.569331Z"
    }
   }
  },
  {
   "cell_type": "code",
   "execution_count": 24,
   "outputs": [
    {
     "data": {
      "text/plain": "'gender'"
     },
     "execution_count": 24,
     "metadata": {},
     "output_type": "execute_result"
    }
   ],
   "source": [
    "ex1 = 'gender'\n",
    "ex1"
   ],
   "metadata": {
    "collapsed": false,
    "ExecuteTime": {
     "end_time": "2023-05-27T16:11:45.629754500Z",
     "start_time": "2023-05-27T16:11:45.594438200Z"
    }
   }
  },
  {
   "cell_type": "code",
   "execution_count": 25,
   "outputs": [],
   "source": [
    "vec_example = tfidf.transform([ex1])"
   ],
   "metadata": {
    "collapsed": false,
    "ExecuteTime": {
     "end_time": "2023-05-27T16:11:45.629754500Z",
     "start_time": "2023-05-27T16:11:45.596950500Z"
    }
   }
  },
  {
   "cell_type": "code",
   "execution_count": 26,
   "outputs": [
    {
     "data": {
      "text/plain": "array([[0., 0., 0., 0., 0., 0., 0., 0.]])"
     },
     "execution_count": 26,
     "metadata": {},
     "output_type": "execute_result"
    }
   ],
   "source": [
    "result=binary_rel_clf.predict(vec_example).toarray()\n",
    "result"
   ],
   "metadata": {
    "collapsed": false,
    "ExecuteTime": {
     "end_time": "2023-05-27T16:11:45.703305200Z",
     "start_time": "2023-05-27T16:11:45.626759200Z"
    }
   }
  },
  {
   "cell_type": "code",
   "execution_count": 27,
   "outputs": [],
   "source": [
    "def getpredictedclass(result2):\n",
    "    if result2[0][0]==1:\n",
    "        print(\"user\")\n",
    "    if result2[0][1]==1:\n",
    "        print(\"music\")\n",
    "    if result2[0][2]== 1:\n",
    "        print(\"employee\")\n",
    "    if result2[0][3]== 1:\n",
    "        print(\"book\")\n",
    "    if result2[0][4]== 1:\n",
    "        print(\"website\")\n",
    "    if result2[0][5]== 1:\n",
    "        print(\"credit card\")\n",
    "    if result2[0][6]== 1:\n",
    "        print(\"shopping cart\")\n",
    "    if result2[0][7]== 1:\n",
    "        print(\"patient\")"
   ],
   "metadata": {
    "collapsed": false,
    "ExecuteTime": {
     "end_time": "2023-05-27T16:11:45.704307300Z",
     "start_time": "2023-05-27T16:11:45.632754200Z"
    }
   }
  },
  {
   "cell_type": "code",
   "execution_count": 28,
   "outputs": [],
   "source": [
    "getpredictedclass(result)"
   ],
   "metadata": {
    "collapsed": false,
    "ExecuteTime": {
     "end_time": "2023-05-27T16:11:45.704307300Z",
     "start_time": "2023-05-27T16:11:45.648756100Z"
    }
   }
  },
  {
   "cell_type": "code",
   "execution_count": 29,
   "outputs": [
    {
     "data": {
      "text/plain": "array([[0, 0, 0, 0, 0, 0, 0, 1]], dtype=int64)"
     },
     "execution_count": 29,
     "metadata": {},
     "output_type": "execute_result"
    }
   ],
   "source": [
    "model_label_pwoerset=LabelPowerset(MultinomialNB())\n",
    "model_label_pwoerset.fit(X_train,y_train)\n",
    "result2=model_label_pwoerset.predict(vec_example).toarray()\n",
    "result2"
   ],
   "metadata": {
    "collapsed": false,
    "ExecuteTime": {
     "end_time": "2023-05-27T16:11:45.704307300Z",
     "start_time": "2023-05-27T16:11:45.661760200Z"
    }
   }
  },
  {
   "cell_type": "code",
   "execution_count": 30,
   "outputs": [
    {
     "name": "stdout",
     "output_type": "stream",
     "text": [
      "patient\n"
     ]
    }
   ],
   "source": [
    "getpredictedclass(result2)"
   ],
   "metadata": {
    "collapsed": false,
    "ExecuteTime": {
     "end_time": "2023-05-27T16:11:45.704307300Z",
     "start_time": "2023-05-27T16:11:45.676755200Z"
    }
   }
  },
  {
   "cell_type": "code",
   "execution_count": 35,
   "outputs": [],
   "source": [
    "import pickle\n",
    "\n",
    "# save the model to disk\n",
    "filename = 'finalized_model.sav'\n",
    "pickle.dump(model_label_pwoerset, open(filename, 'wb'))\n",
    "\n",
    "# some time later...\n",
    "\n",
    "# load the model from disk\n",
    "\n"
   ],
   "metadata": {
    "collapsed": false,
    "ExecuteTime": {
     "end_time": "2023-05-27T16:12:47.419833800Z",
     "start_time": "2023-05-27T16:12:47.406786500Z"
    }
   }
  },
  {
   "cell_type": "code",
   "execution_count": 34,
   "outputs": [
    {
     "name": "stdout",
     "output_type": "stream",
     "text": [
      "patient\n"
     ]
    }
   ],
   "source": [],
   "metadata": {
    "collapsed": false,
    "ExecuteTime": {
     "end_time": "2023-05-27T16:12:36.836936100Z",
     "start_time": "2023-05-27T16:12:36.822897Z"
    }
   }
  },
  {
   "cell_type": "code",
   "execution_count": null,
   "outputs": [],
   "source": [],
   "metadata": {
    "collapsed": false
   }
  }
 ],
 "metadata": {
  "kernelspec": {
   "display_name": "Python 3",
   "language": "python",
   "name": "python3"
  },
  "language_info": {
   "codemirror_mode": {
    "name": "ipython",
    "version": 2
   },
   "file_extension": ".py",
   "mimetype": "text/x-python",
   "name": "python",
   "nbconvert_exporter": "python",
   "pygments_lexer": "ipython2",
   "version": "2.7.6"
  }
 },
 "nbformat": 4,
 "nbformat_minor": 0
}
